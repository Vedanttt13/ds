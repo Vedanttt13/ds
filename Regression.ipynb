{
  "nbformat": 4,
  "nbformat_minor": 0,
  "metadata": {
    "colab": {
      "provenance": []
    },
    "kernelspec": {
      "name": "python3",
      "display_name": "Python 3"
    },
    "language_info": {
      "name": "python"
    }
  },
  "cells": [
    {
      "cell_type": "code",
      "source": [
        "#SIMPLE LINEAR REGRESSION\n",
        "\n",
        "import numpy as np\n",
        "import pandas as pd\n",
        "from sklearn import linear_model\n",
        "from sklearn.model_selection import train_test_split\n",
        "\n",
        "# Load the dataset\n",
        "df = pd.read_csv('/content/multiple_linear_regression_dataset.csv')\n",
        "\n",
        "# Define the model\n",
        "model = linear_model.LinearRegression()\n",
        "\n",
        "# Use only one feature (e.g., age) for simple linear regression\n",
        "x = df[['age']]  # Single independent variable\n",
        "y = df['income']  # Dependent variable\n",
        "\n",
        "# Split the data into training and test sets\n",
        "x_train, x_test, y_train, y_test = train_test_split(x, y, test_size=0.5)\n",
        "\n",
        "# Train the model\n",
        "model.fit(x_train, y_train)\n",
        "\n",
        "# Predict income for a new age value (e.g., 34 years)\n",
        "new_data = pd.DataFrame([[34]], columns=['age'])\n",
        "predicted_income = model.predict(new_data)\n",
        "print(\"Predicted Income:\", predicted_income)\n",
        "\n",
        "# Model evaluation\n",
        "print(\"Model Score (R^2):\", model.score(x_test, y_test))\n",
        "\n",
        "# Coefficient and intercept\n",
        "print(\"Coefficient (slope):\", model.coef_[0])\n",
        "print(\"Intercept:\", model.intercept_)\n",
        "\n",
        "# Manual calculation using the simple linear regression formula\n",
        "age = 34\n",
        "y_manual = model.intercept_ + model.coef_[0] * age\n",
        "print(\"Manual Calculation of Income:\", y_manual)\n"
      ],
      "metadata": {
        "colab": {
          "base_uri": "https://localhost:8080/"
        },
        "id": "VrlCH48BAKJA",
        "outputId": "973ac402-10d6-4013-8e35-2e9352b9ef5b"
      },
      "execution_count": null,
      "outputs": [
        {
          "output_type": "stream",
          "name": "stdout",
          "text": [
            "Predicted Income: [38294.52751817]\n",
            "Model Score (R^2): 0.2777849601990353\n",
            "Coefficient (slope): 473.83437175493253\n",
            "Intercept: 22184.15887850467\n",
            "Manual Calculation of Income: 38294.52751817238\n"
          ]
        }
      ]
    },
    {
      "cell_type": "code",
      "execution_count": null,
      "metadata": {
        "colab": {
          "base_uri": "https://localhost:8080/"
        },
        "id": "hmA3F9GuUIJb",
        "outputId": "4d089703-3f35-40a1-833f-e8b7e7d4ade3"
      },
      "outputs": [
        {
          "output_type": "stream",
          "name": "stdout",
          "text": [
            "[38295.45284138]\n",
            "Model Score (R^2): 0.9659905170662867\n"
          ]
        },
        {
          "output_type": "execute_result",
          "data": {
            "text/plain": [
              "38295.452841380946"
            ]
          },
          "metadata": {},
          "execution_count": 5
        }
      ],
      "source": [
        "#MULTIPLE LINEAR REGRESSION\n",
        "\n",
        "import numpy as numpy\n",
        "import pandas as pd\n",
        "import seaborn as sns\n",
        "from sklearn import linear_model\n",
        "from sklearn.model_selection import train_test_split\n",
        "\n",
        "\n",
        "df=pd.read_csv('/content/multiple_linear_regression_dataset.csv')\n",
        "\n",
        "\n",
        "\n",
        "\n",
        "model=linear_model.LinearRegression()\n",
        "\n",
        "x=df[['age','experience']]\n",
        "y=df['income']\n",
        "\n",
        "x_train,x_test,y_train,y_test=train_test_split(x,y,test_size=0.5)\n",
        "model.fit(x_train,y_train)\n",
        "new_data = pd.DataFrame([[34, 5]], columns=['age', 'experience'])\n",
        "\n",
        "inc=model.predict(new_data)\n",
        "print(inc)\n",
        "print(\"Model Score (R^2):\", model.score(x_test, y_test))\n",
        "\n",
        "model.score(x_test,y_test)\n",
        "\n",
        "\n",
        "\n",
        "model.coef_\n",
        "\n",
        "\n",
        "y=model.intercept_ +model.coef_[0]*34+model.coef_[1]*5\n",
        "y"
      ]
    },
    {
      "cell_type": "code",
      "source": [
        "#LinearRegression\n",
        "from sklearn.linear_model import LinearRegression\n",
        "\n",
        "# Example data\n",
        "X = [[10], [15], [25], [30]]  # One independent variable\n",
        "y = [50, 80, 120, 150]        # Target variable\n",
        "\n",
        "# Create and train the model\n",
        "model = LinearRegression()\n",
        "model.fit(X, y)\n",
        "\n",
        "# Coefficients and intercept\n",
        "print(\"Intercept:\", model.intercept_)  # Example: 10\n",
        "print(\"Coefficient:\", model.coef_[0]) # Example: 4\n",
        "\n",
        "# Predict y for x = 34\n",
        "x = 34\n",
        "predicted_y = model.intercept_ + model.coef_[0] * x\n",
        "print(\"Predicted y:\", predicted_y)\n",
        "\n",
        "# Alternatively, use model.predict()\n",
        "predicted_y_alt = model.predict([[x]])\n",
        "print(\"Predicted y (using model.predict):\", predicted_y_alt)\n"
      ],
      "metadata": {
        "colab": {
          "base_uri": "https://localhost:8080/"
        },
        "id": "E0mCP3biXx2o",
        "outputId": "bc2c4c87-0848-4cb3-92e4-6782b7891a32"
      },
      "execution_count": null,
      "outputs": [
        {
          "output_type": "stream",
          "name": "stdout",
          "text": [
            "Intercept: 4.0\n",
            "Coefficient: 4.8\n",
            "Predicted y: 167.2\n",
            "Predicted y (using model.predict): [167.2]\n"
          ]
        }
      ]
    },
    {
      "cell_type": "code",
      "source": [
        "import pandas as pd\n",
        "from matplotlib import pyplot as plt\n",
        "from sklearn.model_selection import train_test_split\n",
        "from sklearn.linear_model import LogisticRegression\n",
        "import math\n",
        "\n",
        "# Load the dataset\n",
        "df = pd.read_csv(\"/content/logistic regression dataset-Social_Network_Ads.csv\")\n",
        "df.head()\n",
        "\n",
        "# Extract features and labels\n",
        "X = df.iloc[:, [2, 3]].values  # Assuming Age and Estimated Salary columns\n",
        "y = df.iloc[:, 4].values       # Assuming the Purchased column\n",
        "\n",
        "# Split the data into training and testing sets\n",
        "X_train, X_test, y_train, y_test = train_test_split(X, y, train_size=0.7)\n",
        "\n",
        "# Train the logistic regression model\n",
        "model = LogisticRegression()\n",
        "model.fit(X_train, y_train)\n",
        "\n",
        "# Predict a specific case\n",
        "y_predicted = model.predict([[47, 54000]])\n",
        "print(\"Prediction for [Age=47, Salary=54000]:\", y_predicted[0])\n",
        "\n",
        "# Evaluate the model\n",
        "print(\"Model accuracy on test data:\", model.score(X_test, y_test))\n",
        "\n",
        "# Model coefficients and intercept\n",
        "print(\"Model coefficients:\", model.coef_)\n",
        "print(\"Model intercept:\", model.intercept_)\n",
        "\n",
        "# Sigmoid function\n",
        "def sigmoid(z):\n",
        "    return 1 / (1 + math.exp(-z))\n",
        "\n",
        "# Prediction function\n",
        "def prediction_function(X):\n",
        "    # Extract model coefficients and intercept\n",
        "    coef = model.coef_[0]\n",
        "    intercept = model.intercept_[0]\n",
        "\n",
        "    # Compute z (linear combination)\n",
        "    z = coef[0] * X[0] + coef[1] * X[1] + intercept\n",
        "\n",
        "    # Apply the sigmoid function\n",
        "    t = sigmoid(z)\n",
        "    return t\n",
        "\n",
        "# Make a prediction using the custom prediction function\n",
        "custom_prediction = prediction_function([47, 54000])\n",
        "print(\"Custom prediction probability for [Age=47, Salary=54000]:\", custom_prediction)\n"
      ],
      "metadata": {
        "colab": {
          "base_uri": "https://localhost:8080/"
        },
        "id": "yPS5FUrPDLuc",
        "outputId": "e4cade35-e4c6-47f4-cacd-ae286cb9c5d4"
      },
      "execution_count": null,
      "outputs": [
        {
          "output_type": "stream",
          "name": "stdout",
          "text": [
            "Predicted Probabilities: [[0.31126653 0.68873347]]\n",
            "Predicted Class: [1]\n",
            "Accuracy Score: 0.5810222222222222\n"
          ]
        }
      ]
    }
  ]
}